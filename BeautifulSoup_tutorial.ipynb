{
  "nbformat": 4,
  "nbformat_minor": 0,
  "metadata": {
    "colab": {
      "provenance": []
    },
    "kernelspec": {
      "name": "python3",
      "display_name": "Python 3"
    },
    "language_info": {
      "name": "python"
    }
  },
  "cells": [
    {
      "cell_type": "markdown",
      "source": [
        "We start with an html element stored as a string in a variable"
      ],
      "metadata": {
        "id": "UD7fBq-Tk_sx"
      }
    },
    {
      "cell_type": "code",
      "source": [
        "!pip install bs4"
      ],
      "metadata": {
        "colab": {
          "base_uri": "https://localhost:8080/"
        },
        "id": "onCCB9BRU1CV",
        "outputId": "073d0d48-25f9-4eb9-fc11-17956242742d"
      },
      "execution_count": 55,
      "outputs": [
        {
          "output_type": "stream",
          "name": "stdout",
          "text": [
            "Requirement already satisfied: bs4 in /usr/local/lib/python3.11/dist-packages (0.0.2)\n",
            "Requirement already satisfied: beautifulsoup4 in /usr/local/lib/python3.11/dist-packages (from bs4) (4.13.3)\n",
            "Requirement already satisfied: soupsieve>1.2 in /usr/local/lib/python3.11/dist-packages (from beautifulsoup4->bs4) (2.6)\n",
            "Requirement already satisfied: typing-extensions>=4.0.0 in /usr/local/lib/python3.11/dist-packages (from beautifulsoup4->bs4) (4.12.2)\n"
          ]
        }
      ]
    },
    {
      "cell_type": "markdown",
      "source": [
        "https://www.crummy.com/software/BeautifulSoup/bs4/doc/"
      ],
      "metadata": {
        "id": "KZ7WS2G2OI3p"
      }
    },
    {
      "cell_type": "code",
      "source": [
        "from bs4 import BeautifulSoup\n",
        "\n",
        "# Sample HTML document\n",
        "html_doc = \"\"\"\n",
        "<html>\n",
        "<head><title>World's Population</title></head>\n",
        "<body>\n",
        "    <h1>Main Heading</h1>\n",
        "    <p class=\"xyz\">This is a paragraph.</p>\n",
        "    <p class=\"content\">Another paragraph with <a href=\"https://example.com\">a link</a>.</p>\n",
        "\n",
        "    <div id=\"container\">\n",
        "        <ul>\n",
        "            <li class=\"item\">Item 1</li>\n",
        "            <li class=\"item\">Item 2</li>\n",
        "            <li class=\"item\">Item 3</li>\n",
        "        </ul>\n",
        "    </div>\n",
        "\n",
        "    <table>\n",
        "        <tr><th>Name</th><th>Age</th></tr>\n",
        "        <tr><td>Alice</td><td>25</td></tr>\n",
        "        <tr><td>Bob</td><td>30</td></tr>\n",
        "        <tr><td>Frank</td><td>28</td></tr>\n",
        "        <tr><td>Rachel</td><td>24</td></tr>\n",
        "    </table>\n",
        "</body>\n",
        "</html>\n",
        "\"\"\"\n",
        "\n"
      ],
      "metadata": {
        "id": "m8wg5az_WR8-"
      },
      "execution_count": 56,
      "outputs": []
    },
    {
      "cell_type": "code",
      "source": [
        "soup = BeautifulSoup(html_doc, \"html.parser\")\n",
        "print(type(soup))"
      ],
      "metadata": {
        "colab": {
          "base_uri": "https://localhost:8080/"
        },
        "id": "uK3_InNQYDs7",
        "outputId": "450c2bee-e2ab-4dc8-de9e-33641cdbfcfe"
      },
      "execution_count": 57,
      "outputs": [
        {
          "output_type": "stream",
          "name": "stdout",
          "text": [
            "<class 'bs4.BeautifulSoup'>\n"
          ]
        }
      ]
    },
    {
      "cell_type": "code",
      "source": [
        "X = soup.find(\"table\")\n",
        "print(X)"
      ],
      "metadata": {
        "colab": {
          "base_uri": "https://localhost:8080/"
        },
        "id": "APID4ZalfJgE",
        "outputId": "1c21d24c-88e4-4c3f-f55a-4230778e736f"
      },
      "execution_count": 58,
      "outputs": [
        {
          "output_type": "stream",
          "name": "stdout",
          "text": [
            "<table>\n",
            "<tr><th>Name</th><th>Age</th></tr>\n",
            "<tr><td>Alice</td><td>25</td></tr>\n",
            "<tr><td>Bob</td><td>30</td></tr>\n",
            "<tr><td>Frank</td><td>28</td></tr>\n",
            "<tr><td>Rachel</td><td>24</td></tr>\n",
            "</table>\n"
          ]
        }
      ]
    },
    {
      "cell_type": "code",
      "source": [
        "Y = X.find_all(\"tr\")\n",
        "for i in Y:\n",
        "  print(i.text)\n"
      ],
      "metadata": {
        "colab": {
          "base_uri": "https://localhost:8080/"
        },
        "id": "jegErpArfpo7",
        "outputId": "549ed9a0-ab5c-443d-e77d-a07bb05da741"
      },
      "execution_count": 59,
      "outputs": [
        {
          "output_type": "stream",
          "name": "stdout",
          "text": [
            "NameAge\n",
            "Alice25\n",
            "Bob30\n",
            "Frank28\n",
            "Rachel24\n"
          ]
        }
      ]
    },
    {
      "cell_type": "code",
      "source": [
        "for i in Y:\n",
        "  a =i.find_all(\"th\")\n",
        "  print(a)\n",
        "  b= []\n",
        "  for j in a:\n",
        "    b.append(j.text)\n",
        "\n",
        "  #b = [j.text for j in a]\n",
        "\n",
        "  break\n",
        "\n",
        "print(b)\n",
        "# [<th>Name</th>, <th>Age</th>]\n",
        "# ['Name', 'Age']"
      ],
      "metadata": {
        "colab": {
          "base_uri": "https://localhost:8080/"
        },
        "id": "kaAzkhzdgFYE",
        "outputId": "06375e06-d95d-4bdd-83f6-39159e2b5263"
      },
      "execution_count": 60,
      "outputs": [
        {
          "output_type": "stream",
          "name": "stdout",
          "text": [
            "[<th>Name</th>, <th>Age</th>]\n",
            "['Name', 'Age']\n"
          ]
        }
      ]
    },
    {
      "cell_type": "code",
      "source": [
        "D=[]\n",
        "for k in Y[1:]:\n",
        "  c =k.find_all(\"td\")\n",
        "  #print(c)\n",
        "  d= []\n",
        "  for m in c:\n",
        "    d.append(m.text)\n",
        "  D.append(d)\n",
        "\n",
        "  #b = [j.text for j in a]\n",
        "\n",
        "print(D)"
      ],
      "metadata": {
        "colab": {
          "base_uri": "https://localhost:8080/"
        },
        "id": "5AKYjXU4k3Ni",
        "outputId": "68f87937-a9c8-486c-c8ee-533599d76cc9"
      },
      "execution_count": 61,
      "outputs": [
        {
          "output_type": "stream",
          "name": "stdout",
          "text": [
            "[['Alice', '25'], ['Bob', '30'], ['Frank', '28'], ['Rachel', '24']]\n"
          ]
        }
      ]
    },
    {
      "cell_type": "code",
      "source": [
        "Dic ={}\n",
        "z = 0\n",
        "for n in b:\n",
        "  Dic[n]=[x[z] for x in D]\n",
        "  z+=1\n",
        "\n",
        "Dic\n",
        "for i,j in Dic.items():\n",
        "  print(i,j)\n"
      ],
      "metadata": {
        "colab": {
          "base_uri": "https://localhost:8080/"
        },
        "id": "kjWZKJBco92n",
        "outputId": "7a2e6cd8-4689-449a-9ef5-3ab16f91e129"
      },
      "execution_count": 62,
      "outputs": [
        {
          "output_type": "stream",
          "name": "stdout",
          "text": [
            "Name ['Alice', 'Bob', 'Frank', 'Rachel']\n",
            "Age ['25', '30', '28', '24']\n"
          ]
        }
      ]
    },
    {
      "cell_type": "code",
      "source": [
        "# 1. Finding table\n",
        "# 2. Headers\n",
        "# 3. rows\n",
        "# 4. Dictionary\n",
        "# 5. DataFrame\n",
        "# 6. Plots(matplotlib)\n"
      ],
      "metadata": {
        "id": "m07cjiNVV69o"
      },
      "execution_count": 63,
      "outputs": []
    },
    {
      "cell_type": "code",
      "source": [],
      "metadata": {
        "id": "nujQE9umqLmj"
      },
      "execution_count": 63,
      "outputs": []
    },
    {
      "cell_type": "code",
      "source": [
        "import pandas as pd\n",
        "df = pd.DataFrame(Dic)\n",
        "df"
      ],
      "metadata": {
        "colab": {
          "base_uri": "https://localhost:8080/",
          "height": 175
        },
        "id": "aTRNd8xGn7Oh",
        "outputId": "270b4488-4d6c-49e4-9524-52eba112399e"
      },
      "execution_count": 64,
      "outputs": [
        {
          "output_type": "execute_result",
          "data": {
            "text/plain": [
              "     Name Age\n",
              "0   Alice  25\n",
              "1     Bob  30\n",
              "2   Frank  28\n",
              "3  Rachel  24"
            ],
            "text/html": [
              "\n",
              "  <div id=\"df-16ab52bf-b2b8-45a5-bd2a-e77fbcccc635\" class=\"colab-df-container\">\n",
              "    <div>\n",
              "<style scoped>\n",
              "    .dataframe tbody tr th:only-of-type {\n",
              "        vertical-align: middle;\n",
              "    }\n",
              "\n",
              "    .dataframe tbody tr th {\n",
              "        vertical-align: top;\n",
              "    }\n",
              "\n",
              "    .dataframe thead th {\n",
              "        text-align: right;\n",
              "    }\n",
              "</style>\n",
              "<table border=\"1\" class=\"dataframe\">\n",
              "  <thead>\n",
              "    <tr style=\"text-align: right;\">\n",
              "      <th></th>\n",
              "      <th>Name</th>\n",
              "      <th>Age</th>\n",
              "    </tr>\n",
              "  </thead>\n",
              "  <tbody>\n",
              "    <tr>\n",
              "      <th>0</th>\n",
              "      <td>Alice</td>\n",
              "      <td>25</td>\n",
              "    </tr>\n",
              "    <tr>\n",
              "      <th>1</th>\n",
              "      <td>Bob</td>\n",
              "      <td>30</td>\n",
              "    </tr>\n",
              "    <tr>\n",
              "      <th>2</th>\n",
              "      <td>Frank</td>\n",
              "      <td>28</td>\n",
              "    </tr>\n",
              "    <tr>\n",
              "      <th>3</th>\n",
              "      <td>Rachel</td>\n",
              "      <td>24</td>\n",
              "    </tr>\n",
              "  </tbody>\n",
              "</table>\n",
              "</div>\n",
              "    <div class=\"colab-df-buttons\">\n",
              "\n",
              "  <div class=\"colab-df-container\">\n",
              "    <button class=\"colab-df-convert\" onclick=\"convertToInteractive('df-16ab52bf-b2b8-45a5-bd2a-e77fbcccc635')\"\n",
              "            title=\"Convert this dataframe to an interactive table.\"\n",
              "            style=\"display:none;\">\n",
              "\n",
              "  <svg xmlns=\"http://www.w3.org/2000/svg\" height=\"24px\" viewBox=\"0 -960 960 960\">\n",
              "    <path d=\"M120-120v-720h720v720H120Zm60-500h600v-160H180v160Zm220 220h160v-160H400v160Zm0 220h160v-160H400v160ZM180-400h160v-160H180v160Zm440 0h160v-160H620v160ZM180-180h160v-160H180v160Zm440 0h160v-160H620v160Z\"/>\n",
              "  </svg>\n",
              "    </button>\n",
              "\n",
              "  <style>\n",
              "    .colab-df-container {\n",
              "      display:flex;\n",
              "      gap: 12px;\n",
              "    }\n",
              "\n",
              "    .colab-df-convert {\n",
              "      background-color: #E8F0FE;\n",
              "      border: none;\n",
              "      border-radius: 50%;\n",
              "      cursor: pointer;\n",
              "      display: none;\n",
              "      fill: #1967D2;\n",
              "      height: 32px;\n",
              "      padding: 0 0 0 0;\n",
              "      width: 32px;\n",
              "    }\n",
              "\n",
              "    .colab-df-convert:hover {\n",
              "      background-color: #E2EBFA;\n",
              "      box-shadow: 0px 1px 2px rgba(60, 64, 67, 0.3), 0px 1px 3px 1px rgba(60, 64, 67, 0.15);\n",
              "      fill: #174EA6;\n",
              "    }\n",
              "\n",
              "    .colab-df-buttons div {\n",
              "      margin-bottom: 4px;\n",
              "    }\n",
              "\n",
              "    [theme=dark] .colab-df-convert {\n",
              "      background-color: #3B4455;\n",
              "      fill: #D2E3FC;\n",
              "    }\n",
              "\n",
              "    [theme=dark] .colab-df-convert:hover {\n",
              "      background-color: #434B5C;\n",
              "      box-shadow: 0px 1px 3px 1px rgba(0, 0, 0, 0.15);\n",
              "      filter: drop-shadow(0px 1px 2px rgba(0, 0, 0, 0.3));\n",
              "      fill: #FFFFFF;\n",
              "    }\n",
              "  </style>\n",
              "\n",
              "    <script>\n",
              "      const buttonEl =\n",
              "        document.querySelector('#df-16ab52bf-b2b8-45a5-bd2a-e77fbcccc635 button.colab-df-convert');\n",
              "      buttonEl.style.display =\n",
              "        google.colab.kernel.accessAllowed ? 'block' : 'none';\n",
              "\n",
              "      async function convertToInteractive(key) {\n",
              "        const element = document.querySelector('#df-16ab52bf-b2b8-45a5-bd2a-e77fbcccc635');\n",
              "        const dataTable =\n",
              "          await google.colab.kernel.invokeFunction('convertToInteractive',\n",
              "                                                    [key], {});\n",
              "        if (!dataTable) return;\n",
              "\n",
              "        const docLinkHtml = 'Like what you see? Visit the ' +\n",
              "          '<a target=\"_blank\" href=https://colab.research.google.com/notebooks/data_table.ipynb>data table notebook</a>'\n",
              "          + ' to learn more about interactive tables.';\n",
              "        element.innerHTML = '';\n",
              "        dataTable['output_type'] = 'display_data';\n",
              "        await google.colab.output.renderOutput(dataTable, element);\n",
              "        const docLink = document.createElement('div');\n",
              "        docLink.innerHTML = docLinkHtml;\n",
              "        element.appendChild(docLink);\n",
              "      }\n",
              "    </script>\n",
              "  </div>\n",
              "\n",
              "\n",
              "<div id=\"df-896065d5-ee6f-4255-a2d7-9cf9927f08e0\">\n",
              "  <button class=\"colab-df-quickchart\" onclick=\"quickchart('df-896065d5-ee6f-4255-a2d7-9cf9927f08e0')\"\n",
              "            title=\"Suggest charts\"\n",
              "            style=\"display:none;\">\n",
              "\n",
              "<svg xmlns=\"http://www.w3.org/2000/svg\" height=\"24px\"viewBox=\"0 0 24 24\"\n",
              "     width=\"24px\">\n",
              "    <g>\n",
              "        <path d=\"M19 3H5c-1.1 0-2 .9-2 2v14c0 1.1.9 2 2 2h14c1.1 0 2-.9 2-2V5c0-1.1-.9-2-2-2zM9 17H7v-7h2v7zm4 0h-2V7h2v10zm4 0h-2v-4h2v4z\"/>\n",
              "    </g>\n",
              "</svg>\n",
              "  </button>\n",
              "\n",
              "<style>\n",
              "  .colab-df-quickchart {\n",
              "      --bg-color: #E8F0FE;\n",
              "      --fill-color: #1967D2;\n",
              "      --hover-bg-color: #E2EBFA;\n",
              "      --hover-fill-color: #174EA6;\n",
              "      --disabled-fill-color: #AAA;\n",
              "      --disabled-bg-color: #DDD;\n",
              "  }\n",
              "\n",
              "  [theme=dark] .colab-df-quickchart {\n",
              "      --bg-color: #3B4455;\n",
              "      --fill-color: #D2E3FC;\n",
              "      --hover-bg-color: #434B5C;\n",
              "      --hover-fill-color: #FFFFFF;\n",
              "      --disabled-bg-color: #3B4455;\n",
              "      --disabled-fill-color: #666;\n",
              "  }\n",
              "\n",
              "  .colab-df-quickchart {\n",
              "    background-color: var(--bg-color);\n",
              "    border: none;\n",
              "    border-radius: 50%;\n",
              "    cursor: pointer;\n",
              "    display: none;\n",
              "    fill: var(--fill-color);\n",
              "    height: 32px;\n",
              "    padding: 0;\n",
              "    width: 32px;\n",
              "  }\n",
              "\n",
              "  .colab-df-quickchart:hover {\n",
              "    background-color: var(--hover-bg-color);\n",
              "    box-shadow: 0 1px 2px rgba(60, 64, 67, 0.3), 0 1px 3px 1px rgba(60, 64, 67, 0.15);\n",
              "    fill: var(--button-hover-fill-color);\n",
              "  }\n",
              "\n",
              "  .colab-df-quickchart-complete:disabled,\n",
              "  .colab-df-quickchart-complete:disabled:hover {\n",
              "    background-color: var(--disabled-bg-color);\n",
              "    fill: var(--disabled-fill-color);\n",
              "    box-shadow: none;\n",
              "  }\n",
              "\n",
              "  .colab-df-spinner {\n",
              "    border: 2px solid var(--fill-color);\n",
              "    border-color: transparent;\n",
              "    border-bottom-color: var(--fill-color);\n",
              "    animation:\n",
              "      spin 1s steps(1) infinite;\n",
              "  }\n",
              "\n",
              "  @keyframes spin {\n",
              "    0% {\n",
              "      border-color: transparent;\n",
              "      border-bottom-color: var(--fill-color);\n",
              "      border-left-color: var(--fill-color);\n",
              "    }\n",
              "    20% {\n",
              "      border-color: transparent;\n",
              "      border-left-color: var(--fill-color);\n",
              "      border-top-color: var(--fill-color);\n",
              "    }\n",
              "    30% {\n",
              "      border-color: transparent;\n",
              "      border-left-color: var(--fill-color);\n",
              "      border-top-color: var(--fill-color);\n",
              "      border-right-color: var(--fill-color);\n",
              "    }\n",
              "    40% {\n",
              "      border-color: transparent;\n",
              "      border-right-color: var(--fill-color);\n",
              "      border-top-color: var(--fill-color);\n",
              "    }\n",
              "    60% {\n",
              "      border-color: transparent;\n",
              "      border-right-color: var(--fill-color);\n",
              "    }\n",
              "    80% {\n",
              "      border-color: transparent;\n",
              "      border-right-color: var(--fill-color);\n",
              "      border-bottom-color: var(--fill-color);\n",
              "    }\n",
              "    90% {\n",
              "      border-color: transparent;\n",
              "      border-bottom-color: var(--fill-color);\n",
              "    }\n",
              "  }\n",
              "</style>\n",
              "\n",
              "  <script>\n",
              "    async function quickchart(key) {\n",
              "      const quickchartButtonEl =\n",
              "        document.querySelector('#' + key + ' button');\n",
              "      quickchartButtonEl.disabled = true;  // To prevent multiple clicks.\n",
              "      quickchartButtonEl.classList.add('colab-df-spinner');\n",
              "      try {\n",
              "        const charts = await google.colab.kernel.invokeFunction(\n",
              "            'suggestCharts', [key], {});\n",
              "      } catch (error) {\n",
              "        console.error('Error during call to suggestCharts:', error);\n",
              "      }\n",
              "      quickchartButtonEl.classList.remove('colab-df-spinner');\n",
              "      quickchartButtonEl.classList.add('colab-df-quickchart-complete');\n",
              "    }\n",
              "    (() => {\n",
              "      let quickchartButtonEl =\n",
              "        document.querySelector('#df-896065d5-ee6f-4255-a2d7-9cf9927f08e0 button');\n",
              "      quickchartButtonEl.style.display =\n",
              "        google.colab.kernel.accessAllowed ? 'block' : 'none';\n",
              "    })();\n",
              "  </script>\n",
              "</div>\n",
              "\n",
              "  <div id=\"id_93f12303-1585-4bc5-9e9d-764356de9b21\">\n",
              "    <style>\n",
              "      .colab-df-generate {\n",
              "        background-color: #E8F0FE;\n",
              "        border: none;\n",
              "        border-radius: 50%;\n",
              "        cursor: pointer;\n",
              "        display: none;\n",
              "        fill: #1967D2;\n",
              "        height: 32px;\n",
              "        padding: 0 0 0 0;\n",
              "        width: 32px;\n",
              "      }\n",
              "\n",
              "      .colab-df-generate:hover {\n",
              "        background-color: #E2EBFA;\n",
              "        box-shadow: 0px 1px 2px rgba(60, 64, 67, 0.3), 0px 1px 3px 1px rgba(60, 64, 67, 0.15);\n",
              "        fill: #174EA6;\n",
              "      }\n",
              "\n",
              "      [theme=dark] .colab-df-generate {\n",
              "        background-color: #3B4455;\n",
              "        fill: #D2E3FC;\n",
              "      }\n",
              "\n",
              "      [theme=dark] .colab-df-generate:hover {\n",
              "        background-color: #434B5C;\n",
              "        box-shadow: 0px 1px 3px 1px rgba(0, 0, 0, 0.15);\n",
              "        filter: drop-shadow(0px 1px 2px rgba(0, 0, 0, 0.3));\n",
              "        fill: #FFFFFF;\n",
              "      }\n",
              "    </style>\n",
              "    <button class=\"colab-df-generate\" onclick=\"generateWithVariable('df')\"\n",
              "            title=\"Generate code using this dataframe.\"\n",
              "            style=\"display:none;\">\n",
              "\n",
              "  <svg xmlns=\"http://www.w3.org/2000/svg\" height=\"24px\"viewBox=\"0 0 24 24\"\n",
              "       width=\"24px\">\n",
              "    <path d=\"M7,19H8.4L18.45,9,17,7.55,7,17.6ZM5,21V16.75L18.45,3.32a2,2,0,0,1,2.83,0l1.4,1.43a1.91,1.91,0,0,1,.58,1.4,1.91,1.91,0,0,1-.58,1.4L9.25,21ZM18.45,9,17,7.55Zm-12,3A5.31,5.31,0,0,0,4.9,8.1,5.31,5.31,0,0,0,1,6.5,5.31,5.31,0,0,0,4.9,4.9,5.31,5.31,0,0,0,6.5,1,5.31,5.31,0,0,0,8.1,4.9,5.31,5.31,0,0,0,12,6.5,5.46,5.46,0,0,0,6.5,12Z\"/>\n",
              "  </svg>\n",
              "    </button>\n",
              "    <script>\n",
              "      (() => {\n",
              "      const buttonEl =\n",
              "        document.querySelector('#id_93f12303-1585-4bc5-9e9d-764356de9b21 button.colab-df-generate');\n",
              "      buttonEl.style.display =\n",
              "        google.colab.kernel.accessAllowed ? 'block' : 'none';\n",
              "\n",
              "      buttonEl.onclick = () => {\n",
              "        google.colab.notebook.generateWithVariable('df');\n",
              "      }\n",
              "      })();\n",
              "    </script>\n",
              "  </div>\n",
              "\n",
              "    </div>\n",
              "  </div>\n"
            ],
            "application/vnd.google.colaboratory.intrinsic+json": {
              "type": "dataframe",
              "variable_name": "df",
              "summary": "{\n  \"name\": \"df\",\n  \"rows\": 4,\n  \"fields\": [\n    {\n      \"column\": \"Name\",\n      \"properties\": {\n        \"dtype\": \"string\",\n        \"num_unique_values\": 4,\n        \"samples\": [\n          \"Bob\",\n          \"Rachel\",\n          \"Alice\"\n        ],\n        \"semantic_type\": \"\",\n        \"description\": \"\"\n      }\n    },\n    {\n      \"column\": \"Age\",\n      \"properties\": {\n        \"dtype\": \"string\",\n        \"num_unique_values\": 4,\n        \"samples\": [\n          \"30\",\n          \"24\",\n          \"25\"\n        ],\n        \"semantic_type\": \"\",\n        \"description\": \"\"\n      }\n    }\n  ]\n}"
            }
          },
          "metadata": {},
          "execution_count": 64
        }
      ]
    },
    {
      "cell_type": "code",
      "source": [
        "df.to_csv('agedata.csv')"
      ],
      "metadata": {
        "id": "FXAuRrg7qWOv"
      },
      "execution_count": 65,
      "outputs": []
    },
    {
      "cell_type": "code",
      "source": [
        "#Finding things via tags\n",
        "\n",
        "# 1. **Basic Parsing**\n",
        "print(\"Page Title:\", soup.body.text)  # Extract title\n",
        "#Limitation: Finds first occurence only"
      ],
      "metadata": {
        "colab": {
          "base_uri": "https://localhost:8080/"
        },
        "id": "Uqks49G1XRTW",
        "outputId": "66a44ff2-027d-4fa3-bd29-85f75918905f"
      },
      "execution_count": 66,
      "outputs": [
        {
          "output_type": "stream",
          "name": "stdout",
          "text": [
            "Page Title: \n",
            "Main Heading\n",
            "This is a paragraph.\n",
            "Another paragraph with a link.\n",
            "\n",
            "\n",
            "Item 1\n",
            "Item 2\n",
            "Item 3\n",
            "\n",
            "\n",
            "\n",
            "NameAge\n",
            "Alice25\n",
            "Bob30\n",
            "Frank28\n",
            "Rachel24\n",
            "\n",
            "\n"
          ]
        }
      ]
    },
    {
      "cell_type": "code",
      "source": [
        "# 10. **Prettifying HTML Output**\n",
        "x = BeautifulSoup(\"<html><body><span>This is first</span><p>This is second</p></body></html>\",\"html.parser\")\n",
        "print(x)\n",
        "print(\"\\nPrettified HTML:\")\n",
        "print(x.prettify())"
      ],
      "metadata": {
        "colab": {
          "base_uri": "https://localhost:8080/"
        },
        "id": "TrFHHrjYFu10",
        "outputId": "8de577a9-6445-4948-c5b1-76a6ad9c4fa7"
      },
      "execution_count": 67,
      "outputs": [
        {
          "output_type": "stream",
          "name": "stdout",
          "text": [
            "<html><body><span>This is first</span><p>This is second</p></body></html>\n",
            "\n",
            "Prettified HTML:\n",
            "<html>\n",
            " <body>\n",
            "  <span>\n",
            "   This is first\n",
            "  </span>\n",
            "  <p>\n",
            "   This is second\n",
            "  </p>\n",
            " </body>\n",
            "</html>\n",
            "\n"
          ]
        }
      ]
    },
    {
      "cell_type": "code",
      "source": [
        "# 2. **Finding Elements**\n",
        "print(\"\\nFind first paragraph:\",(soup.find(\"p\").text) ) # First <p> tag\n",
        "print(type(soup.find(\"p\").text))\n",
        "print(\"Find all paragraphs:\", soup.find_all(\"p\"))  # All <p> tags\n",
        "x = []\n",
        "for i in soup.find_all(\"p\"):\n",
        "  x.append(i.text)\n",
        "print(x)"
      ],
      "metadata": {
        "colab": {
          "base_uri": "https://localhost:8080/"
        },
        "id": "d90SVPtmXSWk",
        "outputId": "c5c60176-81ff-4dac-cd21-59dfa453a82b"
      },
      "execution_count": 68,
      "outputs": [
        {
          "output_type": "stream",
          "name": "stdout",
          "text": [
            "\n",
            "Find first paragraph: This is a paragraph.\n",
            "<class 'str'>\n",
            "Find all paragraphs: [<p class=\"xyz\">This is a paragraph.</p>, <p class=\"content\">Another paragraph with <a href=\"https://example.com\">a link</a>.</p>]\n",
            "['This is a paragraph.', 'Another paragraph with a link.']\n"
          ]
        }
      ]
    },
    {
      "cell_type": "markdown",
      "source": [],
      "metadata": {
        "id": "2AofijstOGx0"
      }
    },
    {
      "cell_type": "code",
      "source": [
        "# 3. **Using CSS Selectors**\n",
        "print(\"\\nUsing CSS Selectors:\")\n",
        "print(soup.select(\"p\")[0].text)  # Select by tag name\n",
        "print(soup.select(\".xyz\")[0].text)  # Select by class\n",
        "print(soup.select(\"#container ul li\")[1].text)   # Selects the element with id=\"container\" # Select second list item in <ul>"
      ],
      "metadata": {
        "colab": {
          "base_uri": "https://localhost:8080/"
        },
        "id": "VY65Swe5XS8S",
        "outputId": "68e040c1-4093-4694-eec5-35bfeace0fba"
      },
      "execution_count": 69,
      "outputs": [
        {
          "output_type": "stream",
          "name": "stdout",
          "text": [
            "\n",
            "Using CSS Selectors:\n",
            "This is a paragraph.\n",
            "This is a paragraph.\n",
            "Item 2\n"
          ]
        }
      ]
    },
    {
      "cell_type": "code",
      "source": [
        "# 4. **Navigating the DOM**\n",
        "print(\"\\nNavigating the DOM:\")\n",
        "print(soup.body.h1.text)  # First <h1> tag inside <body>\n",
        "print(soup.body.div.ul.li.text)  # First <li> inside <div> -> <ul>"
      ],
      "metadata": {
        "id": "8U85mdtsXi_a",
        "colab": {
          "base_uri": "https://localhost:8080/"
        },
        "outputId": "389ea623-e168-46c9-a6ef-43775426b872"
      },
      "execution_count": 70,
      "outputs": [
        {
          "output_type": "stream",
          "name": "stdout",
          "text": [
            "\n",
            "Navigating the DOM:\n",
            "Main Heading\n",
            "Item 1\n"
          ]
        }
      ]
    },
    {
      "cell_type": "code",
      "source": [
        "# 5. **Extracting Attributes**\n",
        "link = soup.find(\"a\")\n",
        "print(link.text)\n",
        "print(\"\\nExtracting Attributes:\")\n",
        "print(\"Link URL:\", link[\"href\"])  # Extract href attribute of <a>"
      ],
      "metadata": {
        "id": "NvuUgD_rXjuM",
        "colab": {
          "base_uri": "https://localhost:8080/"
        },
        "outputId": "ba762c03-feb4-493f-b987-5c704d47eab2"
      },
      "execution_count": 71,
      "outputs": [
        {
          "output_type": "stream",
          "name": "stdout",
          "text": [
            "a link\n",
            "\n",
            "Extracting Attributes:\n",
            "Link URL: https://example.com\n"
          ]
        }
      ]
    },
    {
      "cell_type": "code",
      "source": [
        "\n",
        "# 6. **Modifying HTML**\n",
        "print(\"\\nModifying HTML:\")\n",
        "soup.find(\"h1\").string = \"Updated Heading\"\n",
        "print(soup.h1.text)"
      ],
      "metadata": {
        "id": "lwI3L38tXjYJ",
        "colab": {
          "base_uri": "https://localhost:8080/"
        },
        "outputId": "0dcee9c3-d115-4770-d07d-3599126d3663"
      },
      "execution_count": 72,
      "outputs": [
        {
          "output_type": "stream",
          "name": "stdout",
          "text": [
            "\n",
            "Modifying HTML:\n",
            "Updated Heading\n"
          ]
        }
      ]
    },
    {
      "cell_type": "code",
      "source": [
        "# 7. **Extracting Text**\n",
        "print(\"\\nExtracting All Text from Page:\")\n",
        "print(soup.get_text(separator='|'))"
      ],
      "metadata": {
        "id": "G0fUVumfXwKl",
        "colab": {
          "base_uri": "https://localhost:8080/"
        },
        "outputId": "506d16bf-a843-4cfe-f5fc-ab751d6507be"
      },
      "execution_count": 73,
      "outputs": [
        {
          "output_type": "stream",
          "name": "stdout",
          "text": [
            "\n",
            "Extracting All Text from Page:\n",
            "\n",
            "|\n",
            "|World's Population|\n",
            "|\n",
            "|Updated Heading|\n",
            "|This is a paragraph.|\n",
            "|Another paragraph with |a link|.|\n",
            "|\n",
            "|\n",
            "|Item 1|\n",
            "|Item 2|\n",
            "|Item 3|\n",
            "|\n",
            "|\n",
            "|\n",
            "|Name|Age|\n",
            "|Alice|25|\n",
            "|Bob|30|\n",
            "|Frank|28|\n",
            "|Rachel|24|\n",
            "|\n",
            "|\n",
            "|\n",
            "\n"
          ]
        }
      ]
    },
    {
      "cell_type": "code",
      "source": [
        "# 9. **Decomposing (Removing) Elements**\n",
        "soup.find(\"h1\").decompose()  # Remove <h1> tag\n",
        "print(\"\\nAfter Removing h1:\", soup)"
      ],
      "metadata": {
        "id": "PASxBNavKQB4",
        "colab": {
          "base_uri": "https://localhost:8080/"
        },
        "outputId": "f5c70f4d-58a1-4d9e-8a53-9795e31ee5f3"
      },
      "execution_count": 74,
      "outputs": [
        {
          "output_type": "stream",
          "name": "stdout",
          "text": [
            "\n",
            "After Removing h1: \n",
            "<html>\n",
            "<head><title>World's Population</title></head>\n",
            "<body>\n",
            "\n",
            "<p class=\"xyz\">This is a paragraph.</p>\n",
            "<p class=\"content\">Another paragraph with <a href=\"https://example.com\">a link</a>.</p>\n",
            "<div id=\"container\">\n",
            "<ul>\n",
            "<li class=\"item\">Item 1</li>\n",
            "<li class=\"item\">Item 2</li>\n",
            "<li class=\"item\">Item 3</li>\n",
            "</ul>\n",
            "</div>\n",
            "<table>\n",
            "<tr><th>Name</th><th>Age</th></tr>\n",
            "<tr><td>Alice</td><td>25</td></tr>\n",
            "<tr><td>Bob</td><td>30</td></tr>\n",
            "<tr><td>Frank</td><td>28</td></tr>\n",
            "<tr><td>Rachel</td><td>24</td></tr>\n",
            "</table>\n",
            "</body>\n",
            "</html>\n",
            "\n"
          ]
        }
      ]
    },
    {
      "cell_type": "code",
      "source": [
        "# 8. **Working with Tables**\n",
        "table1 = soup.find(\"table\")\n",
        "rows = table1.find_all(\"tr\")\n",
        "print(rows)\n",
        "print(\"\\nTable Data:\")\n",
        "for row in rows:\n",
        "   cols = row.find_all(\"td\")\n",
        "   if cols:\n",
        "        print(f\"Name: {cols[0].text}, Age: {cols[1].text}\")"
      ],
      "metadata": {
        "id": "YrdhsmKkXwjS",
        "colab": {
          "base_uri": "https://localhost:8080/"
        },
        "outputId": "7f221954-9d2b-468f-fa3f-a3c14d040976"
      },
      "execution_count": 75,
      "outputs": [
        {
          "output_type": "stream",
          "name": "stdout",
          "text": [
            "[<tr><th>Name</th><th>Age</th></tr>, <tr><td>Alice</td><td>25</td></tr>, <tr><td>Bob</td><td>30</td></tr>, <tr><td>Frank</td><td>28</td></tr>, <tr><td>Rachel</td><td>24</td></tr>]\n",
            "\n",
            "Table Data:\n",
            "Name: Alice, Age: 25\n",
            "Name: Bob, Age: 30\n",
            "Name: Frank, Age: 28\n",
            "Name: Rachel, Age: 24\n"
          ]
        }
      ]
    },
    {
      "cell_type": "code",
      "source": [],
      "metadata": {
        "id": "bMbgc0BCX0kB"
      },
      "execution_count": 75,
      "outputs": []
    },
    {
      "cell_type": "code",
      "source": [
        "# Print header\n",
        "header_cols = rows[0].find_all(\"th\")\n",
        "print(f\"{'':<3}{header_cols[0].text:<8}{header_cols[1].text:<3}\")\n",
        "\n",
        "# Print table rows with numbering\n",
        "for index, row in enumerate(rows[1:], start=1):\n",
        "    cols = row.find_all(\"td\")\n",
        "    if cols:\n",
        "        print(f\"{index:<3}{cols[0].text:<8}{cols[1].text:<3}\")"
      ],
      "metadata": {
        "colab": {
          "base_uri": "https://localhost:8080/"
        },
        "id": "3Vcr8rFwrwi8",
        "outputId": "08f80535-cb9b-4fa7-b00f-356bc49fe806"
      },
      "execution_count": 76,
      "outputs": [
        {
          "output_type": "stream",
          "name": "stdout",
          "text": [
            "   Name    Age\n",
            "1  Alice   25 \n",
            "2  Bob     30 \n",
            "3  Frank   28 \n",
            "4  Rachel  24 \n"
          ]
        }
      ]
    },
    {
      "cell_type": "code",
      "source": [
        "x=[i.text for i in header_cols]\n",
        "x"
      ],
      "metadata": {
        "colab": {
          "base_uri": "https://localhost:8080/"
        },
        "id": "UV_gatc5slq4",
        "outputId": "4e4f86d3-f293-466f-ef16-fdc111024d7f"
      },
      "execution_count": 77,
      "outputs": [
        {
          "output_type": "execute_result",
          "data": {
            "text/plain": [
              "['Name', 'Age']"
            ]
          },
          "metadata": {},
          "execution_count": 77
        }
      ]
    },
    {
      "cell_type": "code",
      "source": [
        "rows[1:]"
      ],
      "metadata": {
        "colab": {
          "base_uri": "https://localhost:8080/"
        },
        "id": "cU_CXqgLs6C6",
        "outputId": "b9e6142c-acbb-4052-9e89-baad090ed646"
      },
      "execution_count": 78,
      "outputs": [
        {
          "output_type": "execute_result",
          "data": {
            "text/plain": [
              "[<tr><td>Alice</td><td>25</td></tr>,\n",
              " <tr><td>Bob</td><td>30</td></tr>,\n",
              " <tr><td>Frank</td><td>28</td></tr>,\n",
              " <tr><td>Rachel</td><td>24</td></tr>]"
            ]
          },
          "metadata": {},
          "execution_count": 78
        }
      ]
    },
    {
      "cell_type": "code",
      "source": [
        "data=[]\n",
        "for i in rows[1:]:\n",
        "  z=[j.text for j in i.find_all(\"td\")]\n",
        "  data.append(z)\n",
        "data"
      ],
      "metadata": {
        "colab": {
          "base_uri": "https://localhost:8080/"
        },
        "id": "FJmJ_ss6vHeK",
        "outputId": "d37ef67a-9d0a-4c39-e6e6-b366ba60b05e"
      },
      "execution_count": 79,
      "outputs": [
        {
          "output_type": "execute_result",
          "data": {
            "text/plain": [
              "[['Alice', '25'], ['Bob', '30'], ['Frank', '28'], ['Rachel', '24']]"
            ]
          },
          "metadata": {},
          "execution_count": 79
        }
      ]
    },
    {
      "cell_type": "code",
      "source": [
        "D={}\n",
        "n=0\n",
        "for k in x:\n",
        "  D[k] = [m[n] for m in data]\n",
        "  n+=1\n",
        "\n",
        "D"
      ],
      "metadata": {
        "colab": {
          "base_uri": "https://localhost:8080/"
        },
        "id": "zRaXZHQCv04M",
        "outputId": "f482a210-6a08-4ba5-cb95-a9c0e8419f88"
      },
      "execution_count": 80,
      "outputs": [
        {
          "output_type": "execute_result",
          "data": {
            "text/plain": [
              "{'Name': ['Alice', 'Bob', 'Frank', 'Rachel'], 'Age': ['25', '30', '28', '24']}"
            ]
          },
          "metadata": {},
          "execution_count": 80
        }
      ]
    },
    {
      "cell_type": "code",
      "source": [
        "import pandas as pd\n",
        "df = pd.DataFrame(D)\n",
        "df\n"
      ],
      "metadata": {
        "colab": {
          "base_uri": "https://localhost:8080/",
          "height": 175
        },
        "id": "5CB1Gfinwvyw",
        "outputId": "959518c1-2c0c-4ee2-857e-2faf8a8d4039"
      },
      "execution_count": 81,
      "outputs": [
        {
          "output_type": "execute_result",
          "data": {
            "text/plain": [
              "     Name Age\n",
              "0   Alice  25\n",
              "1     Bob  30\n",
              "2   Frank  28\n",
              "3  Rachel  24"
            ],
            "text/html": [
              "\n",
              "  <div id=\"df-db863fe2-25d0-4aff-ac1c-b395eb722a88\" class=\"colab-df-container\">\n",
              "    <div>\n",
              "<style scoped>\n",
              "    .dataframe tbody tr th:only-of-type {\n",
              "        vertical-align: middle;\n",
              "    }\n",
              "\n",
              "    .dataframe tbody tr th {\n",
              "        vertical-align: top;\n",
              "    }\n",
              "\n",
              "    .dataframe thead th {\n",
              "        text-align: right;\n",
              "    }\n",
              "</style>\n",
              "<table border=\"1\" class=\"dataframe\">\n",
              "  <thead>\n",
              "    <tr style=\"text-align: right;\">\n",
              "      <th></th>\n",
              "      <th>Name</th>\n",
              "      <th>Age</th>\n",
              "    </tr>\n",
              "  </thead>\n",
              "  <tbody>\n",
              "    <tr>\n",
              "      <th>0</th>\n",
              "      <td>Alice</td>\n",
              "      <td>25</td>\n",
              "    </tr>\n",
              "    <tr>\n",
              "      <th>1</th>\n",
              "      <td>Bob</td>\n",
              "      <td>30</td>\n",
              "    </tr>\n",
              "    <tr>\n",
              "      <th>2</th>\n",
              "      <td>Frank</td>\n",
              "      <td>28</td>\n",
              "    </tr>\n",
              "    <tr>\n",
              "      <th>3</th>\n",
              "      <td>Rachel</td>\n",
              "      <td>24</td>\n",
              "    </tr>\n",
              "  </tbody>\n",
              "</table>\n",
              "</div>\n",
              "    <div class=\"colab-df-buttons\">\n",
              "\n",
              "  <div class=\"colab-df-container\">\n",
              "    <button class=\"colab-df-convert\" onclick=\"convertToInteractive('df-db863fe2-25d0-4aff-ac1c-b395eb722a88')\"\n",
              "            title=\"Convert this dataframe to an interactive table.\"\n",
              "            style=\"display:none;\">\n",
              "\n",
              "  <svg xmlns=\"http://www.w3.org/2000/svg\" height=\"24px\" viewBox=\"0 -960 960 960\">\n",
              "    <path d=\"M120-120v-720h720v720H120Zm60-500h600v-160H180v160Zm220 220h160v-160H400v160Zm0 220h160v-160H400v160ZM180-400h160v-160H180v160Zm440 0h160v-160H620v160ZM180-180h160v-160H180v160Zm440 0h160v-160H620v160Z\"/>\n",
              "  </svg>\n",
              "    </button>\n",
              "\n",
              "  <style>\n",
              "    .colab-df-container {\n",
              "      display:flex;\n",
              "      gap: 12px;\n",
              "    }\n",
              "\n",
              "    .colab-df-convert {\n",
              "      background-color: #E8F0FE;\n",
              "      border: none;\n",
              "      border-radius: 50%;\n",
              "      cursor: pointer;\n",
              "      display: none;\n",
              "      fill: #1967D2;\n",
              "      height: 32px;\n",
              "      padding: 0 0 0 0;\n",
              "      width: 32px;\n",
              "    }\n",
              "\n",
              "    .colab-df-convert:hover {\n",
              "      background-color: #E2EBFA;\n",
              "      box-shadow: 0px 1px 2px rgba(60, 64, 67, 0.3), 0px 1px 3px 1px rgba(60, 64, 67, 0.15);\n",
              "      fill: #174EA6;\n",
              "    }\n",
              "\n",
              "    .colab-df-buttons div {\n",
              "      margin-bottom: 4px;\n",
              "    }\n",
              "\n",
              "    [theme=dark] .colab-df-convert {\n",
              "      background-color: #3B4455;\n",
              "      fill: #D2E3FC;\n",
              "    }\n",
              "\n",
              "    [theme=dark] .colab-df-convert:hover {\n",
              "      background-color: #434B5C;\n",
              "      box-shadow: 0px 1px 3px 1px rgba(0, 0, 0, 0.15);\n",
              "      filter: drop-shadow(0px 1px 2px rgba(0, 0, 0, 0.3));\n",
              "      fill: #FFFFFF;\n",
              "    }\n",
              "  </style>\n",
              "\n",
              "    <script>\n",
              "      const buttonEl =\n",
              "        document.querySelector('#df-db863fe2-25d0-4aff-ac1c-b395eb722a88 button.colab-df-convert');\n",
              "      buttonEl.style.display =\n",
              "        google.colab.kernel.accessAllowed ? 'block' : 'none';\n",
              "\n",
              "      async function convertToInteractive(key) {\n",
              "        const element = document.querySelector('#df-db863fe2-25d0-4aff-ac1c-b395eb722a88');\n",
              "        const dataTable =\n",
              "          await google.colab.kernel.invokeFunction('convertToInteractive',\n",
              "                                                    [key], {});\n",
              "        if (!dataTable) return;\n",
              "\n",
              "        const docLinkHtml = 'Like what you see? Visit the ' +\n",
              "          '<a target=\"_blank\" href=https://colab.research.google.com/notebooks/data_table.ipynb>data table notebook</a>'\n",
              "          + ' to learn more about interactive tables.';\n",
              "        element.innerHTML = '';\n",
              "        dataTable['output_type'] = 'display_data';\n",
              "        await google.colab.output.renderOutput(dataTable, element);\n",
              "        const docLink = document.createElement('div');\n",
              "        docLink.innerHTML = docLinkHtml;\n",
              "        element.appendChild(docLink);\n",
              "      }\n",
              "    </script>\n",
              "  </div>\n",
              "\n",
              "\n",
              "<div id=\"df-2913de70-6516-4b58-a590-17c529b1bb61\">\n",
              "  <button class=\"colab-df-quickchart\" onclick=\"quickchart('df-2913de70-6516-4b58-a590-17c529b1bb61')\"\n",
              "            title=\"Suggest charts\"\n",
              "            style=\"display:none;\">\n",
              "\n",
              "<svg xmlns=\"http://www.w3.org/2000/svg\" height=\"24px\"viewBox=\"0 0 24 24\"\n",
              "     width=\"24px\">\n",
              "    <g>\n",
              "        <path d=\"M19 3H5c-1.1 0-2 .9-2 2v14c0 1.1.9 2 2 2h14c1.1 0 2-.9 2-2V5c0-1.1-.9-2-2-2zM9 17H7v-7h2v7zm4 0h-2V7h2v10zm4 0h-2v-4h2v4z\"/>\n",
              "    </g>\n",
              "</svg>\n",
              "  </button>\n",
              "\n",
              "<style>\n",
              "  .colab-df-quickchart {\n",
              "      --bg-color: #E8F0FE;\n",
              "      --fill-color: #1967D2;\n",
              "      --hover-bg-color: #E2EBFA;\n",
              "      --hover-fill-color: #174EA6;\n",
              "      --disabled-fill-color: #AAA;\n",
              "      --disabled-bg-color: #DDD;\n",
              "  }\n",
              "\n",
              "  [theme=dark] .colab-df-quickchart {\n",
              "      --bg-color: #3B4455;\n",
              "      --fill-color: #D2E3FC;\n",
              "      --hover-bg-color: #434B5C;\n",
              "      --hover-fill-color: #FFFFFF;\n",
              "      --disabled-bg-color: #3B4455;\n",
              "      --disabled-fill-color: #666;\n",
              "  }\n",
              "\n",
              "  .colab-df-quickchart {\n",
              "    background-color: var(--bg-color);\n",
              "    border: none;\n",
              "    border-radius: 50%;\n",
              "    cursor: pointer;\n",
              "    display: none;\n",
              "    fill: var(--fill-color);\n",
              "    height: 32px;\n",
              "    padding: 0;\n",
              "    width: 32px;\n",
              "  }\n",
              "\n",
              "  .colab-df-quickchart:hover {\n",
              "    background-color: var(--hover-bg-color);\n",
              "    box-shadow: 0 1px 2px rgba(60, 64, 67, 0.3), 0 1px 3px 1px rgba(60, 64, 67, 0.15);\n",
              "    fill: var(--button-hover-fill-color);\n",
              "  }\n",
              "\n",
              "  .colab-df-quickchart-complete:disabled,\n",
              "  .colab-df-quickchart-complete:disabled:hover {\n",
              "    background-color: var(--disabled-bg-color);\n",
              "    fill: var(--disabled-fill-color);\n",
              "    box-shadow: none;\n",
              "  }\n",
              "\n",
              "  .colab-df-spinner {\n",
              "    border: 2px solid var(--fill-color);\n",
              "    border-color: transparent;\n",
              "    border-bottom-color: var(--fill-color);\n",
              "    animation:\n",
              "      spin 1s steps(1) infinite;\n",
              "  }\n",
              "\n",
              "  @keyframes spin {\n",
              "    0% {\n",
              "      border-color: transparent;\n",
              "      border-bottom-color: var(--fill-color);\n",
              "      border-left-color: var(--fill-color);\n",
              "    }\n",
              "    20% {\n",
              "      border-color: transparent;\n",
              "      border-left-color: var(--fill-color);\n",
              "      border-top-color: var(--fill-color);\n",
              "    }\n",
              "    30% {\n",
              "      border-color: transparent;\n",
              "      border-left-color: var(--fill-color);\n",
              "      border-top-color: var(--fill-color);\n",
              "      border-right-color: var(--fill-color);\n",
              "    }\n",
              "    40% {\n",
              "      border-color: transparent;\n",
              "      border-right-color: var(--fill-color);\n",
              "      border-top-color: var(--fill-color);\n",
              "    }\n",
              "    60% {\n",
              "      border-color: transparent;\n",
              "      border-right-color: var(--fill-color);\n",
              "    }\n",
              "    80% {\n",
              "      border-color: transparent;\n",
              "      border-right-color: var(--fill-color);\n",
              "      border-bottom-color: var(--fill-color);\n",
              "    }\n",
              "    90% {\n",
              "      border-color: transparent;\n",
              "      border-bottom-color: var(--fill-color);\n",
              "    }\n",
              "  }\n",
              "</style>\n",
              "\n",
              "  <script>\n",
              "    async function quickchart(key) {\n",
              "      const quickchartButtonEl =\n",
              "        document.querySelector('#' + key + ' button');\n",
              "      quickchartButtonEl.disabled = true;  // To prevent multiple clicks.\n",
              "      quickchartButtonEl.classList.add('colab-df-spinner');\n",
              "      try {\n",
              "        const charts = await google.colab.kernel.invokeFunction(\n",
              "            'suggestCharts', [key], {});\n",
              "      } catch (error) {\n",
              "        console.error('Error during call to suggestCharts:', error);\n",
              "      }\n",
              "      quickchartButtonEl.classList.remove('colab-df-spinner');\n",
              "      quickchartButtonEl.classList.add('colab-df-quickchart-complete');\n",
              "    }\n",
              "    (() => {\n",
              "      let quickchartButtonEl =\n",
              "        document.querySelector('#df-2913de70-6516-4b58-a590-17c529b1bb61 button');\n",
              "      quickchartButtonEl.style.display =\n",
              "        google.colab.kernel.accessAllowed ? 'block' : 'none';\n",
              "    })();\n",
              "  </script>\n",
              "</div>\n",
              "\n",
              "  <div id=\"id_8a89ca7a-7d9d-43cc-aa2c-06601564a911\">\n",
              "    <style>\n",
              "      .colab-df-generate {\n",
              "        background-color: #E8F0FE;\n",
              "        border: none;\n",
              "        border-radius: 50%;\n",
              "        cursor: pointer;\n",
              "        display: none;\n",
              "        fill: #1967D2;\n",
              "        height: 32px;\n",
              "        padding: 0 0 0 0;\n",
              "        width: 32px;\n",
              "      }\n",
              "\n",
              "      .colab-df-generate:hover {\n",
              "        background-color: #E2EBFA;\n",
              "        box-shadow: 0px 1px 2px rgba(60, 64, 67, 0.3), 0px 1px 3px 1px rgba(60, 64, 67, 0.15);\n",
              "        fill: #174EA6;\n",
              "      }\n",
              "\n",
              "      [theme=dark] .colab-df-generate {\n",
              "        background-color: #3B4455;\n",
              "        fill: #D2E3FC;\n",
              "      }\n",
              "\n",
              "      [theme=dark] .colab-df-generate:hover {\n",
              "        background-color: #434B5C;\n",
              "        box-shadow: 0px 1px 3px 1px rgba(0, 0, 0, 0.15);\n",
              "        filter: drop-shadow(0px 1px 2px rgba(0, 0, 0, 0.3));\n",
              "        fill: #FFFFFF;\n",
              "      }\n",
              "    </style>\n",
              "    <button class=\"colab-df-generate\" onclick=\"generateWithVariable('df')\"\n",
              "            title=\"Generate code using this dataframe.\"\n",
              "            style=\"display:none;\">\n",
              "\n",
              "  <svg xmlns=\"http://www.w3.org/2000/svg\" height=\"24px\"viewBox=\"0 0 24 24\"\n",
              "       width=\"24px\">\n",
              "    <path d=\"M7,19H8.4L18.45,9,17,7.55,7,17.6ZM5,21V16.75L18.45,3.32a2,2,0,0,1,2.83,0l1.4,1.43a1.91,1.91,0,0,1,.58,1.4,1.91,1.91,0,0,1-.58,1.4L9.25,21ZM18.45,9,17,7.55Zm-12,3A5.31,5.31,0,0,0,4.9,8.1,5.31,5.31,0,0,0,1,6.5,5.31,5.31,0,0,0,4.9,4.9,5.31,5.31,0,0,0,6.5,1,5.31,5.31,0,0,0,8.1,4.9,5.31,5.31,0,0,0,12,6.5,5.46,5.46,0,0,0,6.5,12Z\"/>\n",
              "  </svg>\n",
              "    </button>\n",
              "    <script>\n",
              "      (() => {\n",
              "      const buttonEl =\n",
              "        document.querySelector('#id_8a89ca7a-7d9d-43cc-aa2c-06601564a911 button.colab-df-generate');\n",
              "      buttonEl.style.display =\n",
              "        google.colab.kernel.accessAllowed ? 'block' : 'none';\n",
              "\n",
              "      buttonEl.onclick = () => {\n",
              "        google.colab.notebook.generateWithVariable('df');\n",
              "      }\n",
              "      })();\n",
              "    </script>\n",
              "  </div>\n",
              "\n",
              "    </div>\n",
              "  </div>\n"
            ],
            "application/vnd.google.colaboratory.intrinsic+json": {
              "type": "dataframe",
              "variable_name": "df",
              "summary": "{\n  \"name\": \"df\",\n  \"rows\": 4,\n  \"fields\": [\n    {\n      \"column\": \"Name\",\n      \"properties\": {\n        \"dtype\": \"string\",\n        \"num_unique_values\": 4,\n        \"samples\": [\n          \"Bob\",\n          \"Rachel\",\n          \"Alice\"\n        ],\n        \"semantic_type\": \"\",\n        \"description\": \"\"\n      }\n    },\n    {\n      \"column\": \"Age\",\n      \"properties\": {\n        \"dtype\": \"string\",\n        \"num_unique_values\": 4,\n        \"samples\": [\n          \"30\",\n          \"24\",\n          \"25\"\n        ],\n        \"semantic_type\": \"\",\n        \"description\": \"\"\n      }\n    }\n  ]\n}"
            }
          },
          "metadata": {},
          "execution_count": 81
        }
      ]
    },
    {
      "cell_type": "code",
      "source": [
        "df.index = range(1, len(df) + 1)\n",
        "df"
      ],
      "metadata": {
        "colab": {
          "base_uri": "https://localhost:8080/",
          "height": 175
        },
        "id": "xhlLK5rbxrQn",
        "outputId": "11a33963-01c7-4f09-d490-a30be5eadb08"
      },
      "execution_count": 82,
      "outputs": [
        {
          "output_type": "execute_result",
          "data": {
            "text/plain": [
              "     Name Age\n",
              "1   Alice  25\n",
              "2     Bob  30\n",
              "3   Frank  28\n",
              "4  Rachel  24"
            ],
            "text/html": [
              "\n",
              "  <div id=\"df-1587a483-583c-4971-9c79-21e986053a37\" class=\"colab-df-container\">\n",
              "    <div>\n",
              "<style scoped>\n",
              "    .dataframe tbody tr th:only-of-type {\n",
              "        vertical-align: middle;\n",
              "    }\n",
              "\n",
              "    .dataframe tbody tr th {\n",
              "        vertical-align: top;\n",
              "    }\n",
              "\n",
              "    .dataframe thead th {\n",
              "        text-align: right;\n",
              "    }\n",
              "</style>\n",
              "<table border=\"1\" class=\"dataframe\">\n",
              "  <thead>\n",
              "    <tr style=\"text-align: right;\">\n",
              "      <th></th>\n",
              "      <th>Name</th>\n",
              "      <th>Age</th>\n",
              "    </tr>\n",
              "  </thead>\n",
              "  <tbody>\n",
              "    <tr>\n",
              "      <th>1</th>\n",
              "      <td>Alice</td>\n",
              "      <td>25</td>\n",
              "    </tr>\n",
              "    <tr>\n",
              "      <th>2</th>\n",
              "      <td>Bob</td>\n",
              "      <td>30</td>\n",
              "    </tr>\n",
              "    <tr>\n",
              "      <th>3</th>\n",
              "      <td>Frank</td>\n",
              "      <td>28</td>\n",
              "    </tr>\n",
              "    <tr>\n",
              "      <th>4</th>\n",
              "      <td>Rachel</td>\n",
              "      <td>24</td>\n",
              "    </tr>\n",
              "  </tbody>\n",
              "</table>\n",
              "</div>\n",
              "    <div class=\"colab-df-buttons\">\n",
              "\n",
              "  <div class=\"colab-df-container\">\n",
              "    <button class=\"colab-df-convert\" onclick=\"convertToInteractive('df-1587a483-583c-4971-9c79-21e986053a37')\"\n",
              "            title=\"Convert this dataframe to an interactive table.\"\n",
              "            style=\"display:none;\">\n",
              "\n",
              "  <svg xmlns=\"http://www.w3.org/2000/svg\" height=\"24px\" viewBox=\"0 -960 960 960\">\n",
              "    <path d=\"M120-120v-720h720v720H120Zm60-500h600v-160H180v160Zm220 220h160v-160H400v160Zm0 220h160v-160H400v160ZM180-400h160v-160H180v160Zm440 0h160v-160H620v160ZM180-180h160v-160H180v160Zm440 0h160v-160H620v160Z\"/>\n",
              "  </svg>\n",
              "    </button>\n",
              "\n",
              "  <style>\n",
              "    .colab-df-container {\n",
              "      display:flex;\n",
              "      gap: 12px;\n",
              "    }\n",
              "\n",
              "    .colab-df-convert {\n",
              "      background-color: #E8F0FE;\n",
              "      border: none;\n",
              "      border-radius: 50%;\n",
              "      cursor: pointer;\n",
              "      display: none;\n",
              "      fill: #1967D2;\n",
              "      height: 32px;\n",
              "      padding: 0 0 0 0;\n",
              "      width: 32px;\n",
              "    }\n",
              "\n",
              "    .colab-df-convert:hover {\n",
              "      background-color: #E2EBFA;\n",
              "      box-shadow: 0px 1px 2px rgba(60, 64, 67, 0.3), 0px 1px 3px 1px rgba(60, 64, 67, 0.15);\n",
              "      fill: #174EA6;\n",
              "    }\n",
              "\n",
              "    .colab-df-buttons div {\n",
              "      margin-bottom: 4px;\n",
              "    }\n",
              "\n",
              "    [theme=dark] .colab-df-convert {\n",
              "      background-color: #3B4455;\n",
              "      fill: #D2E3FC;\n",
              "    }\n",
              "\n",
              "    [theme=dark] .colab-df-convert:hover {\n",
              "      background-color: #434B5C;\n",
              "      box-shadow: 0px 1px 3px 1px rgba(0, 0, 0, 0.15);\n",
              "      filter: drop-shadow(0px 1px 2px rgba(0, 0, 0, 0.3));\n",
              "      fill: #FFFFFF;\n",
              "    }\n",
              "  </style>\n",
              "\n",
              "    <script>\n",
              "      const buttonEl =\n",
              "        document.querySelector('#df-1587a483-583c-4971-9c79-21e986053a37 button.colab-df-convert');\n",
              "      buttonEl.style.display =\n",
              "        google.colab.kernel.accessAllowed ? 'block' : 'none';\n",
              "\n",
              "      async function convertToInteractive(key) {\n",
              "        const element = document.querySelector('#df-1587a483-583c-4971-9c79-21e986053a37');\n",
              "        const dataTable =\n",
              "          await google.colab.kernel.invokeFunction('convertToInteractive',\n",
              "                                                    [key], {});\n",
              "        if (!dataTable) return;\n",
              "\n",
              "        const docLinkHtml = 'Like what you see? Visit the ' +\n",
              "          '<a target=\"_blank\" href=https://colab.research.google.com/notebooks/data_table.ipynb>data table notebook</a>'\n",
              "          + ' to learn more about interactive tables.';\n",
              "        element.innerHTML = '';\n",
              "        dataTable['output_type'] = 'display_data';\n",
              "        await google.colab.output.renderOutput(dataTable, element);\n",
              "        const docLink = document.createElement('div');\n",
              "        docLink.innerHTML = docLinkHtml;\n",
              "        element.appendChild(docLink);\n",
              "      }\n",
              "    </script>\n",
              "  </div>\n",
              "\n",
              "\n",
              "<div id=\"df-bf748b49-f70f-4e60-84ab-41eef7ee5e08\">\n",
              "  <button class=\"colab-df-quickchart\" onclick=\"quickchart('df-bf748b49-f70f-4e60-84ab-41eef7ee5e08')\"\n",
              "            title=\"Suggest charts\"\n",
              "            style=\"display:none;\">\n",
              "\n",
              "<svg xmlns=\"http://www.w3.org/2000/svg\" height=\"24px\"viewBox=\"0 0 24 24\"\n",
              "     width=\"24px\">\n",
              "    <g>\n",
              "        <path d=\"M19 3H5c-1.1 0-2 .9-2 2v14c0 1.1.9 2 2 2h14c1.1 0 2-.9 2-2V5c0-1.1-.9-2-2-2zM9 17H7v-7h2v7zm4 0h-2V7h2v10zm4 0h-2v-4h2v4z\"/>\n",
              "    </g>\n",
              "</svg>\n",
              "  </button>\n",
              "\n",
              "<style>\n",
              "  .colab-df-quickchart {\n",
              "      --bg-color: #E8F0FE;\n",
              "      --fill-color: #1967D2;\n",
              "      --hover-bg-color: #E2EBFA;\n",
              "      --hover-fill-color: #174EA6;\n",
              "      --disabled-fill-color: #AAA;\n",
              "      --disabled-bg-color: #DDD;\n",
              "  }\n",
              "\n",
              "  [theme=dark] .colab-df-quickchart {\n",
              "      --bg-color: #3B4455;\n",
              "      --fill-color: #D2E3FC;\n",
              "      --hover-bg-color: #434B5C;\n",
              "      --hover-fill-color: #FFFFFF;\n",
              "      --disabled-bg-color: #3B4455;\n",
              "      --disabled-fill-color: #666;\n",
              "  }\n",
              "\n",
              "  .colab-df-quickchart {\n",
              "    background-color: var(--bg-color);\n",
              "    border: none;\n",
              "    border-radius: 50%;\n",
              "    cursor: pointer;\n",
              "    display: none;\n",
              "    fill: var(--fill-color);\n",
              "    height: 32px;\n",
              "    padding: 0;\n",
              "    width: 32px;\n",
              "  }\n",
              "\n",
              "  .colab-df-quickchart:hover {\n",
              "    background-color: var(--hover-bg-color);\n",
              "    box-shadow: 0 1px 2px rgba(60, 64, 67, 0.3), 0 1px 3px 1px rgba(60, 64, 67, 0.15);\n",
              "    fill: var(--button-hover-fill-color);\n",
              "  }\n",
              "\n",
              "  .colab-df-quickchart-complete:disabled,\n",
              "  .colab-df-quickchart-complete:disabled:hover {\n",
              "    background-color: var(--disabled-bg-color);\n",
              "    fill: var(--disabled-fill-color);\n",
              "    box-shadow: none;\n",
              "  }\n",
              "\n",
              "  .colab-df-spinner {\n",
              "    border: 2px solid var(--fill-color);\n",
              "    border-color: transparent;\n",
              "    border-bottom-color: var(--fill-color);\n",
              "    animation:\n",
              "      spin 1s steps(1) infinite;\n",
              "  }\n",
              "\n",
              "  @keyframes spin {\n",
              "    0% {\n",
              "      border-color: transparent;\n",
              "      border-bottom-color: var(--fill-color);\n",
              "      border-left-color: var(--fill-color);\n",
              "    }\n",
              "    20% {\n",
              "      border-color: transparent;\n",
              "      border-left-color: var(--fill-color);\n",
              "      border-top-color: var(--fill-color);\n",
              "    }\n",
              "    30% {\n",
              "      border-color: transparent;\n",
              "      border-left-color: var(--fill-color);\n",
              "      border-top-color: var(--fill-color);\n",
              "      border-right-color: var(--fill-color);\n",
              "    }\n",
              "    40% {\n",
              "      border-color: transparent;\n",
              "      border-right-color: var(--fill-color);\n",
              "      border-top-color: var(--fill-color);\n",
              "    }\n",
              "    60% {\n",
              "      border-color: transparent;\n",
              "      border-right-color: var(--fill-color);\n",
              "    }\n",
              "    80% {\n",
              "      border-color: transparent;\n",
              "      border-right-color: var(--fill-color);\n",
              "      border-bottom-color: var(--fill-color);\n",
              "    }\n",
              "    90% {\n",
              "      border-color: transparent;\n",
              "      border-bottom-color: var(--fill-color);\n",
              "    }\n",
              "  }\n",
              "</style>\n",
              "\n",
              "  <script>\n",
              "    async function quickchart(key) {\n",
              "      const quickchartButtonEl =\n",
              "        document.querySelector('#' + key + ' button');\n",
              "      quickchartButtonEl.disabled = true;  // To prevent multiple clicks.\n",
              "      quickchartButtonEl.classList.add('colab-df-spinner');\n",
              "      try {\n",
              "        const charts = await google.colab.kernel.invokeFunction(\n",
              "            'suggestCharts', [key], {});\n",
              "      } catch (error) {\n",
              "        console.error('Error during call to suggestCharts:', error);\n",
              "      }\n",
              "      quickchartButtonEl.classList.remove('colab-df-spinner');\n",
              "      quickchartButtonEl.classList.add('colab-df-quickchart-complete');\n",
              "    }\n",
              "    (() => {\n",
              "      let quickchartButtonEl =\n",
              "        document.querySelector('#df-bf748b49-f70f-4e60-84ab-41eef7ee5e08 button');\n",
              "      quickchartButtonEl.style.display =\n",
              "        google.colab.kernel.accessAllowed ? 'block' : 'none';\n",
              "    })();\n",
              "  </script>\n",
              "</div>\n",
              "\n",
              "  <div id=\"id_2795703d-f889-42f6-bdf6-23c91d197796\">\n",
              "    <style>\n",
              "      .colab-df-generate {\n",
              "        background-color: #E8F0FE;\n",
              "        border: none;\n",
              "        border-radius: 50%;\n",
              "        cursor: pointer;\n",
              "        display: none;\n",
              "        fill: #1967D2;\n",
              "        height: 32px;\n",
              "        padding: 0 0 0 0;\n",
              "        width: 32px;\n",
              "      }\n",
              "\n",
              "      .colab-df-generate:hover {\n",
              "        background-color: #E2EBFA;\n",
              "        box-shadow: 0px 1px 2px rgba(60, 64, 67, 0.3), 0px 1px 3px 1px rgba(60, 64, 67, 0.15);\n",
              "        fill: #174EA6;\n",
              "      }\n",
              "\n",
              "      [theme=dark] .colab-df-generate {\n",
              "        background-color: #3B4455;\n",
              "        fill: #D2E3FC;\n",
              "      }\n",
              "\n",
              "      [theme=dark] .colab-df-generate:hover {\n",
              "        background-color: #434B5C;\n",
              "        box-shadow: 0px 1px 3px 1px rgba(0, 0, 0, 0.15);\n",
              "        filter: drop-shadow(0px 1px 2px rgba(0, 0, 0, 0.3));\n",
              "        fill: #FFFFFF;\n",
              "      }\n",
              "    </style>\n",
              "    <button class=\"colab-df-generate\" onclick=\"generateWithVariable('df')\"\n",
              "            title=\"Generate code using this dataframe.\"\n",
              "            style=\"display:none;\">\n",
              "\n",
              "  <svg xmlns=\"http://www.w3.org/2000/svg\" height=\"24px\"viewBox=\"0 0 24 24\"\n",
              "       width=\"24px\">\n",
              "    <path d=\"M7,19H8.4L18.45,9,17,7.55,7,17.6ZM5,21V16.75L18.45,3.32a2,2,0,0,1,2.83,0l1.4,1.43a1.91,1.91,0,0,1,.58,1.4,1.91,1.91,0,0,1-.58,1.4L9.25,21ZM18.45,9,17,7.55Zm-12,3A5.31,5.31,0,0,0,4.9,8.1,5.31,5.31,0,0,0,1,6.5,5.31,5.31,0,0,0,4.9,4.9,5.31,5.31,0,0,0,6.5,1,5.31,5.31,0,0,0,8.1,4.9,5.31,5.31,0,0,0,12,6.5,5.46,5.46,0,0,0,6.5,12Z\"/>\n",
              "  </svg>\n",
              "    </button>\n",
              "    <script>\n",
              "      (() => {\n",
              "      const buttonEl =\n",
              "        document.querySelector('#id_2795703d-f889-42f6-bdf6-23c91d197796 button.colab-df-generate');\n",
              "      buttonEl.style.display =\n",
              "        google.colab.kernel.accessAllowed ? 'block' : 'none';\n",
              "\n",
              "      buttonEl.onclick = () => {\n",
              "        google.colab.notebook.generateWithVariable('df');\n",
              "      }\n",
              "      })();\n",
              "    </script>\n",
              "  </div>\n",
              "\n",
              "    </div>\n",
              "  </div>\n"
            ],
            "application/vnd.google.colaboratory.intrinsic+json": {
              "type": "dataframe",
              "variable_name": "df",
              "summary": "{\n  \"name\": \"df\",\n  \"rows\": 4,\n  \"fields\": [\n    {\n      \"column\": \"Name\",\n      \"properties\": {\n        \"dtype\": \"string\",\n        \"num_unique_values\": 4,\n        \"samples\": [\n          \"Bob\",\n          \"Rachel\",\n          \"Alice\"\n        ],\n        \"semantic_type\": \"\",\n        \"description\": \"\"\n      }\n    },\n    {\n      \"column\": \"Age\",\n      \"properties\": {\n        \"dtype\": \"string\",\n        \"num_unique_values\": 4,\n        \"samples\": [\n          \"30\",\n          \"24\",\n          \"25\"\n        ],\n        \"semantic_type\": \"\",\n        \"description\": \"\"\n      }\n    }\n  ]\n}"
            }
          },
          "metadata": {},
          "execution_count": 82
        }
      ]
    },
    {
      "cell_type": "code",
      "source": [
        "df.to_csv('agedata.csv')"
      ],
      "metadata": {
        "id": "grifQAM7w-K8"
      },
      "execution_count": 83,
      "outputs": []
    },
    {
      "cell_type": "code",
      "source": [
        "# Convert to JSON\n",
        "json_data = df.to_json()\n",
        "print(json_data)"
      ],
      "metadata": {
        "colab": {
          "base_uri": "https://localhost:8080/"
        },
        "id": "hWsjJuVK3GAh",
        "outputId": "5b2b7a67-bf31-47da-96f4-b63bd8fe480a"
      },
      "execution_count": 84,
      "outputs": [
        {
          "output_type": "stream",
          "name": "stdout",
          "text": [
            "{\"Name\":{\"1\":\"Alice\",\"2\":\"Bob\",\"3\":\"Frank\",\"4\":\"Rachel\"},\"Age\":{\"1\":\"25\",\"2\":\"30\",\"3\":\"28\",\"4\":\"24\"}}\n"
          ]
        }
      ]
    },
    {
      "cell_type": "code",
      "source": [
        "df.to_json(\"agedata.json\")\n"
      ],
      "metadata": {
        "id": "rRa3N-D83aD6"
      },
      "execution_count": 85,
      "outputs": []
    },
    {
      "cell_type": "code",
      "execution_count": 86,
      "metadata": {
        "id": "FsU7dSBMdJZ8"
      },
      "outputs": [],
      "source": [
        "x='<html><th>Location</th><th>Population</th></html>'"
      ]
    },
    {
      "cell_type": "code",
      "source": [
        "x"
      ],
      "metadata": {
        "id": "eiSLsM_ydzF3",
        "colab": {
          "base_uri": "https://localhost:8080/",
          "height": 35
        },
        "outputId": "8735e674-d6bf-4267-9063-4c218fbe1596"
      },
      "execution_count": 87,
      "outputs": [
        {
          "output_type": "execute_result",
          "data": {
            "text/plain": [
              "'<html><th>Location</th><th>Population</th></html>'"
            ],
            "application/vnd.google.colaboratory.intrinsic+json": {
              "type": "string"
            }
          },
          "metadata": {},
          "execution_count": 87
        }
      ]
    },
    {
      "cell_type": "code",
      "source": [
        "print(type(x))"
      ],
      "metadata": {
        "id": "Un-YPOBXlJCW",
        "colab": {
          "base_uri": "https://localhost:8080/"
        },
        "outputId": "726f9486-b227-4e34-a427-47d25c040831"
      },
      "execution_count": 88,
      "outputs": [
        {
          "output_type": "stream",
          "name": "stdout",
          "text": [
            "<class 'str'>\n"
          ]
        }
      ]
    },
    {
      "cell_type": "markdown",
      "source": [
        "Importing Beautiful Soup, provided it's already installed"
      ],
      "metadata": {
        "id": "bOKC3RjHlPc9"
      }
    },
    {
      "cell_type": "code",
      "source": [
        "from bs4 import BeautifulSoup"
      ],
      "metadata": {
        "id": "TfgZZqBgd1CJ"
      },
      "execution_count": 89,
      "outputs": []
    },
    {
      "cell_type": "code",
      "source": [
        "soup=BeautifulSoup(x)\n",
        "print(soup)\n",
        "print(type(soup))"
      ],
      "metadata": {
        "id": "hhRV4B1heAGZ",
        "colab": {
          "base_uri": "https://localhost:8080/"
        },
        "outputId": "a2d9b2f5-feae-40c6-a9f0-3fb244522595"
      },
      "execution_count": 90,
      "outputs": [
        {
          "output_type": "stream",
          "name": "stdout",
          "text": [
            "<html><body><th>Location</th><th>Population</th></body></html>\n",
            "<class 'bs4.BeautifulSoup'>\n"
          ]
        }
      ]
    },
    {
      "cell_type": "markdown",
      "source": [
        "Finding First Occurence, soup.find is helping us find the first occurence"
      ],
      "metadata": {
        "id": "aUxRyKTLe5pV"
      }
    },
    {
      "cell_type": "code",
      "source": [
        "firstfind = soup.find('th')\n",
        "print(firstfind)\n",
        "print(type(firstfind))\n",
        "print(firstfind.text)\n",
        "print(type(firstfind.text))"
      ],
      "metadata": {
        "id": "7PPzz4TheV44",
        "colab": {
          "base_uri": "https://localhost:8080/"
        },
        "outputId": "d575c362-8713-4139-cfda-ed4910ccb743"
      },
      "execution_count": 91,
      "outputs": [
        {
          "output_type": "stream",
          "name": "stdout",
          "text": [
            "<th>Location</th>\n",
            "<class 'bs4.element.Tag'>\n",
            "Location\n",
            "<class 'str'>\n"
          ]
        }
      ]
    },
    {
      "cell_type": "markdown",
      "source": [
        "Finding All occurences, soup.find_all is helping us find all occurences"
      ],
      "metadata": {
        "id": "0uxBcB0mfBeE"
      }
    },
    {
      "cell_type": "code",
      "source": [
        "allfind=soup.find_all('th')\n",
        "print(allfind)\n",
        "print(type(allfind))\n",
        "# print(allfind.text)#Error\n",
        "# print(type(allfind.text))#Error\n",
        "print(soup.get_text())"
      ],
      "metadata": {
        "id": "EjFGDFu0fBHB",
        "colab": {
          "base_uri": "https://localhost:8080/"
        },
        "outputId": "5dc3f761-5dc9-4cbc-c6bb-52b275517123"
      },
      "execution_count": 92,
      "outputs": [
        {
          "output_type": "stream",
          "name": "stdout",
          "text": [
            "[<th>Location</th>, <th>Population</th>]\n",
            "<class 'bs4.element.ResultSet'>\n",
            "LocationPopulation\n"
          ]
        }
      ]
    },
    {
      "cell_type": "code",
      "source": [
        "for i in allfind:\n",
        "  print(i)"
      ],
      "metadata": {
        "id": "pDTU1I3Qf-H1",
        "colab": {
          "base_uri": "https://localhost:8080/"
        },
        "outputId": "659e6788-e88a-49c4-f781-3afd0dc66b9a"
      },
      "execution_count": 93,
      "outputs": [
        {
          "output_type": "stream",
          "name": "stdout",
          "text": [
            "<th>Location</th>\n",
            "<th>Population</th>\n"
          ]
        }
      ]
    },
    {
      "cell_type": "code",
      "source": [
        "for i in allfind:\n",
        "  print(i.text)"
      ],
      "metadata": {
        "id": "9VPKSDtOg12h",
        "colab": {
          "base_uri": "https://localhost:8080/"
        },
        "outputId": "7bfed586-f371-4d10-d582-e6bbc7c9ddcd"
      },
      "execution_count": 94,
      "outputs": [
        {
          "output_type": "stream",
          "name": "stdout",
          "text": [
            "Location\n",
            "Population\n"
          ]
        }
      ]
    },
    {
      "cell_type": "code",
      "source": [
        "headers=[]\n",
        "for i in allfind:\n",
        "  headers.append(i.text)\n",
        "\n",
        "headers"
      ],
      "metadata": {
        "id": "Mm67SAHshK-9",
        "colab": {
          "base_uri": "https://localhost:8080/"
        },
        "outputId": "bf6f9b30-41cc-45b8-b0db-90c5496d19d0"
      },
      "execution_count": 95,
      "outputs": [
        {
          "output_type": "execute_result",
          "data": {
            "text/plain": [
              "['Location', 'Population']"
            ]
          },
          "metadata": {},
          "execution_count": 95
        }
      ]
    },
    {
      "cell_type": "markdown",
      "source": [
        "By List Comprehension"
      ],
      "metadata": {
        "id": "SaHeFKQ6h1SM"
      }
    },
    {
      "cell_type": "code",
      "source": [
        "headers = [i.text for i in allfind]\n",
        "headers"
      ],
      "metadata": {
        "id": "8nf0ck5ChsHv",
        "colab": {
          "base_uri": "https://localhost:8080/"
        },
        "outputId": "55e8aade-4914-4cbd-92fc-467a4d38b4c3"
      },
      "execution_count": 96,
      "outputs": [
        {
          "output_type": "execute_result",
          "data": {
            "text/plain": [
              "['Location', 'Population']"
            ]
          },
          "metadata": {},
          "execution_count": 96
        }
      ]
    },
    {
      "cell_type": "code",
      "source": [],
      "metadata": {
        "id": "6VPz__6gioZl"
      },
      "execution_count": 96,
      "outputs": []
    },
    {
      "cell_type": "markdown",
      "metadata": {
        "id": "ce9d7d3d"
      },
      "source": [
        "\n",
        "# Beautiful Soup Quiz - Code Tracing\n",
        "\n",
        "This notebook contains 10 questions focused on code tracing for Beautiful Soup. Each question includes code snippets, multiple-choice options, and the correct answer. Run the cells to see the correct answers.\n"
      ]
    },
    {
      "cell_type": "markdown",
      "metadata": {
        "id": "7e60060c"
      },
      "source": [
        "### Question 1\n",
        "```python\n",
        "\n",
        "from bs4 import BeautifulSoup\n",
        "\n",
        "html_doc = \"<html><body><h1>Hello, World!</h1></body></html>\"\n",
        "soup = BeautifulSoup(html_doc, \"html.parser\")\n",
        "print(soup.h1.text)\n",
        "```"
      ]
    },
    {
      "cell_type": "markdown",
      "metadata": {
        "id": "104aca6c"
      },
      "source": [
        "**Options:**\n",
        "A) <h1>Hello, World!</h1>\n",
        "B) Hello, World!\n",
        "C) None\n",
        "D) Error: AttributeError"
      ]
    },
    {
      "cell_type": "code",
      "execution_count": 97,
      "metadata": {
        "id": "09ad8bb5",
        "colab": {
          "base_uri": "https://localhost:8080/"
        },
        "outputId": "c3c46cea-86d7-40ca-e7d3-64f05327c7b7"
      },
      "outputs": [
        {
          "output_type": "stream",
          "name": "stdout",
          "text": [
            "Correct Answer: B) Hello, World!\n"
          ]
        }
      ],
      "source": [
        "# Correct Answer\n",
        "print(\"Correct Answer: B) Hello, World!\")"
      ]
    },
    {
      "cell_type": "markdown",
      "metadata": {
        "id": "b2b53db3"
      },
      "source": [
        "### Question 2\n",
        "```python\n",
        "\n",
        "from bs4 import BeautifulSoup\n",
        "\n",
        "html_doc = \"<html><body><p class='info'>Python</p><p>Beautiful Soup</p></body></html>\"\n",
        "soup = BeautifulSoup(html_doc, \"html.parser\")\n",
        "print(soup.find('p').text)\n",
        "```"
      ]
    },
    {
      "cell_type": "markdown",
      "metadata": {
        "id": "629bc6da"
      },
      "source": [
        "**Options:**\n",
        "A) Python\n",
        "B) Beautiful Soup\n",
        "C) <p class='info'>Python</p>\n",
        "D) None"
      ]
    },
    {
      "cell_type": "code",
      "execution_count": 98,
      "metadata": {
        "id": "0fe73949",
        "colab": {
          "base_uri": "https://localhost:8080/"
        },
        "outputId": "ba2bf0ae-5c9a-40b9-a93c-036d234b05eb"
      },
      "outputs": [
        {
          "output_type": "stream",
          "name": "stdout",
          "text": [
            "Correct Answer: A) Python\n"
          ]
        }
      ],
      "source": [
        "# Correct Answer\n",
        "print(\"Correct Answer: A) Python\")"
      ]
    },
    {
      "cell_type": "markdown",
      "metadata": {
        "id": "55d6a4e1"
      },
      "source": [
        "### Question 3\n",
        "```python\n",
        "\n",
        "from bs4 import BeautifulSoup\n",
        "\n",
        "html_doc = \"\"\"\n",
        "<html>\n",
        "  <body>\n",
        "    <p class='content'>Paragraph 1</p>\n",
        "    <p>Paragraph 2</p>\n",
        "    <p class='content'>Paragraph 3</p>\n",
        "  </body>\n",
        "</html>\n",
        "\"\"\"\n",
        "soup = BeautifulSoup(html_doc, \"html.parser\")\n",
        "result = soup.find_all('p', class_='content')\n",
        "for item in result:\n",
        "    print(item.text)\n",
        "```"
      ]
    },
    {
      "cell_type": "markdown",
      "metadata": {
        "id": "f37b1798"
      },
      "source": [
        "**Options:**\n",
        "A) Paragraph 1\n",
        "B) Paragraph 1 and Paragraph 3\n",
        "C) Paragraph 2\n",
        "D) None"
      ]
    },
    {
      "cell_type": "code",
      "execution_count": 99,
      "metadata": {
        "id": "b714eb82",
        "colab": {
          "base_uri": "https://localhost:8080/"
        },
        "outputId": "32c08362-57a1-4bc4-e432-e52c1b87ac5f"
      },
      "outputs": [
        {
          "output_type": "stream",
          "name": "stdout",
          "text": [
            "Correct Answer: B) Paragraph 1 and Paragraph 3\n"
          ]
        }
      ],
      "source": [
        "# Correct Answer\n",
        "print(\"Correct Answer: B) Paragraph 1 and Paragraph 3\")"
      ]
    },
    {
      "cell_type": "markdown",
      "metadata": {
        "id": "97fe9ee2"
      },
      "source": [
        "### Question 4\n",
        "```python\n",
        "\n",
        "from bs4 import BeautifulSoup\n",
        "\n",
        "html_doc = \"<html><a href='https://example.com'>Visit Example</a></html>\"\n",
        "soup = BeautifulSoup(html_doc, \"html.parser\")\n",
        "print(soup.a['href'])\n",
        "```"
      ]
    },
    {
      "cell_type": "markdown",
      "metadata": {
        "id": "8827e2fc"
      },
      "source": [
        "**Options:**\n",
        "A) https://example.com\n",
        "B) Visit Example\n",
        "C) <a href='https://example.com'>Visit Example</a>\n",
        "D) None"
      ]
    },
    {
      "cell_type": "code",
      "execution_count": 100,
      "metadata": {
        "id": "05bdd2df",
        "colab": {
          "base_uri": "https://localhost:8080/"
        },
        "outputId": "fb23c597-467e-4c1e-837c-ebff3c01a428"
      },
      "outputs": [
        {
          "output_type": "stream",
          "name": "stdout",
          "text": [
            "Correct Answer: A) https://example.com\n"
          ]
        }
      ],
      "source": [
        "# Correct Answer\n",
        "print(\"Correct Answer: A) https://example.com\")"
      ]
    },
    {
      "cell_type": "markdown",
      "metadata": {
        "id": "50b131ba"
      },
      "source": [
        "### Question 5\n",
        "```python\n",
        "\n",
        "from bs4 import BeautifulSoup\n",
        "\n",
        "html_doc = \"\"\"\n",
        "<html>\n",
        "  <body>\n",
        "    <div>\n",
        "      <h1>Title</h1>\n",
        "      <p>Description</p>\n",
        "    </div>\n",
        "  </body>\n",
        "</html>\n",
        "\"\"\"\n",
        "soup = BeautifulSoup(html_doc, \"html.parser\")\n",
        "print(soup.div.h1.text)\n",
        "```"
      ]
    },
    {
      "cell_type": "markdown",
      "metadata": {
        "id": "721f6bfd"
      },
      "source": [
        "**Options:**\n",
        "A) Title\n",
        "B) Description\n",
        "C) <h1>Title</h1>\n",
        "D) None"
      ]
    },
    {
      "cell_type": "code",
      "execution_count": 101,
      "metadata": {
        "id": "f99fd25e",
        "colab": {
          "base_uri": "https://localhost:8080/"
        },
        "outputId": "1b179836-ec1d-4523-b3dd-b7a1f2a3032d"
      },
      "outputs": [
        {
          "output_type": "stream",
          "name": "stdout",
          "text": [
            "Correct Answer: A) Title\n"
          ]
        }
      ],
      "source": [
        "# Correct Answer\n",
        "print(\"Correct Answer: A) Title\")"
      ]
    },
    {
      "cell_type": "markdown",
      "metadata": {
        "id": "2e29fbc8"
      },
      "source": [
        "### Question 6\n",
        "```python\n",
        "\n",
        "from bs4 import BeautifulSoup\n",
        "\n",
        "html_doc = \"\"\"\n",
        "<html>\n",
        "  <body>\n",
        "    <ul>\n",
        "      <li>Item 1</li>\n",
        "      <li>Item 2</li>\n",
        "      <li>Item 3</li>\n",
        "    </ul>\n",
        "  </body>\n",
        "</html>\n",
        "\"\"\"\n",
        "soup = BeautifulSoup(html_doc, \"html.parser\")\n",
        "items = soup.find_all('li')\n",
        "print(len(items))\n",
        "```"
      ]
    },
    {
      "cell_type": "markdown",
      "metadata": {
        "id": "e3a449e3"
      },
      "source": [
        "**Options:**\n",
        "A) 1\n",
        "B) 2\n",
        "C) 3\n",
        "D) 0"
      ]
    },
    {
      "cell_type": "code",
      "execution_count": 102,
      "metadata": {
        "id": "4360782a",
        "colab": {
          "base_uri": "https://localhost:8080/"
        },
        "outputId": "dd2f7f2c-e874-4812-85ab-6eab779be4ab"
      },
      "outputs": [
        {
          "output_type": "stream",
          "name": "stdout",
          "text": [
            "Correct Answer: C) 3\n"
          ]
        }
      ],
      "source": [
        "# Correct Answer\n",
        "print(\"Correct Answer: C) 3\")"
      ]
    },
    {
      "cell_type": "markdown",
      "metadata": {
        "id": "335fefa6"
      },
      "source": [
        "### Question 7\n",
        "```python\n",
        "\n",
        "from bs4 import BeautifulSoup\n",
        "\n",
        "html_doc = \"\"\"\n",
        "<html>\n",
        "  <body>\n",
        "    <div id=\"main\">\n",
        "      <p class=\"text\">First</p>\n",
        "      <p class=\"text\">Second</p>\n",
        "    </div>\n",
        "  </body>\n",
        "</html>\n",
        "\"\"\"\n",
        "soup = BeautifulSoup(html_doc, \"html.parser\")\n",
        "result = soup.select('#main .text')\n",
        "for item in result:\n",
        "    print(item.text)\n",
        "```"
      ]
    },
    {
      "cell_type": "markdown",
      "metadata": {
        "id": "e961a211"
      },
      "source": [
        "**Options:**\n",
        "A) First\n",
        "B) First and Second\n",
        "C) Second\n",
        "D) None"
      ]
    },
    {
      "cell_type": "code",
      "execution_count": 103,
      "metadata": {
        "id": "73bd8c6c",
        "colab": {
          "base_uri": "https://localhost:8080/"
        },
        "outputId": "4580d82a-6926-45e0-ecc8-2906d066888e"
      },
      "outputs": [
        {
          "output_type": "stream",
          "name": "stdout",
          "text": [
            "Correct Answer: B) First and Second\n"
          ]
        }
      ],
      "source": [
        "# Correct Answer\n",
        "print(\"Correct Answer: B) First and Second\")"
      ]
    },
    {
      "cell_type": "markdown",
      "metadata": {
        "id": "b5c0d418"
      },
      "source": [
        "### Question 8\n",
        "```python\n",
        "\n",
        "from bs4 import BeautifulSoup\n",
        "\n",
        "html_doc = \"<html><body><h1>Hello</h1><p>World</p></body></html>\"\n",
        "soup = BeautifulSoup(html_doc, \"html.parser\")\n",
        "print(soup.get_text())\n",
        "```"
      ]
    },
    {
      "cell_type": "markdown",
      "metadata": {
        "id": "1164ef7c"
      },
      "source": [
        "**Options:**\n",
        "A) Hello World\n",
        "B) Hello\\nWorld\n",
        "C) <h1>Hello</h1><p>World</p>\n",
        "D) None"
      ]
    },
    {
      "cell_type": "code",
      "execution_count": 104,
      "metadata": {
        "id": "26a2dffc",
        "colab": {
          "base_uri": "https://localhost:8080/"
        },
        "outputId": "daadc481-ada5-463a-ef6e-3a5217b1438e"
      },
      "outputs": [
        {
          "output_type": "stream",
          "name": "stdout",
          "text": [
            "Correct Answer: B) Hello\n",
            "World\n"
          ]
        }
      ],
      "source": [
        "# Correct Answer\n",
        "print(\"Correct Answer: B) Hello\\nWorld\")"
      ]
    },
    {
      "cell_type": "markdown",
      "metadata": {
        "id": "cda67571"
      },
      "source": [
        "### Question 9\n",
        "```python\n",
        "\n",
        "from bs4 import BeautifulSoup\n",
        "\n",
        "html_doc = \"\"\"\n",
        "<html>\n",
        "  <body>\n",
        "    <img src=\"image1.png\" alt=\"First Image\">\n",
        "    <img src=\"image2.png\" alt=\"Second Image\">\n",
        "  </body>\n",
        "</html>\n",
        "\"\"\"\n",
        "soup = BeautifulSoup(html_doc, \"html.parser\")\n",
        "image = soup.find('img', alt='Second Image')\n",
        "print(image['src'])\n",
        "```"
      ]
    },
    {
      "cell_type": "markdown",
      "metadata": {
        "id": "94a11a3f"
      },
      "source": [
        "**Options:**\n",
        "A) image1.png\n",
        "B) image2.png\n",
        "C) <img src='image2.png' alt='Second Image'>\n",
        "D) None"
      ]
    },
    {
      "cell_type": "code",
      "execution_count": 105,
      "metadata": {
        "id": "b83bbd94",
        "colab": {
          "base_uri": "https://localhost:8080/"
        },
        "outputId": "0d0b5ebe-1799-4801-baf7-01ddbb836df0"
      },
      "outputs": [
        {
          "output_type": "stream",
          "name": "stdout",
          "text": [
            "Correct Answer: B) image2.png\n"
          ]
        }
      ],
      "source": [
        "# Correct Answer\n",
        "print(\"Correct Answer: B) image2.png\")"
      ]
    },
    {
      "cell_type": "markdown",
      "metadata": {
        "id": "d47ea62c"
      },
      "source": [
        "### Question 10\n",
        "```python\n",
        "\n",
        "from bs4 import BeautifulSoup\n",
        "\n",
        "html_doc = \"\"\"\n",
        "<html>\n",
        "  <body>\n",
        "    <p class=\"info detail\">Content 1</p>\n",
        "    <p class=\"info\">Content 2</p>\n",
        "  </body>\n",
        "</html>\n",
        "\"\"\"\n",
        "soup = BeautifulSoup(html_doc, \"html.parser\")\n",
        "result = soup.find_all('p', class_='info')\n",
        "for item in result:\n",
        "    print(item.text)\n",
        "```"
      ]
    },
    {
      "cell_type": "markdown",
      "metadata": {
        "id": "80caec56"
      },
      "source": [
        "**Options:**\n",
        "A) Content 1\n",
        "B) Content 2\n",
        "C) Content 1 and Content 2\n",
        "D) None"
      ]
    },
    {
      "cell_type": "code",
      "execution_count": 106,
      "metadata": {
        "id": "ad440d0c",
        "colab": {
          "base_uri": "https://localhost:8080/"
        },
        "outputId": "5de680c3-56a0-4b59-827b-f488861a1e80"
      },
      "outputs": [
        {
          "output_type": "stream",
          "name": "stdout",
          "text": [
            "Correct Answer: C) Content 1 and Content 2\n"
          ]
        }
      ],
      "source": [
        "# Correct Answer\n",
        "print(\"Correct Answer: C) Content 1 and Content 2\")"
      ]
    },
    {
      "cell_type": "markdown",
      "source": [
        "**One Small Project**"
      ],
      "metadata": {
        "id": "zS1ug1trKUc2"
      }
    },
    {
      "cell_type": "markdown",
      "source": [
        "Beautiful Soup is a Python library used for web scraping purposes. It allows you to extract and manipulate data from HTML and XML documents. Here's an example to demonstrate how to use Beautiful Soup to scrape and process a webpage:\n",
        "\n",
        "**Example: Scraping Titles of Blog Posts**"
      ],
      "metadata": {
        "id": "eU0JqX2LKhm9"
      }
    },
    {
      "cell_type": "code",
      "source": [
        "from bs4 import BeautifulSoup\n",
        "import requests\n",
        "\n",
        "# URL of the webpage you want to scrape (using a real blog URL for example)\n",
        "url = 'https://realpython.com/'\n",
        "\n",
        "# Send an HTTP request to the webpage\n",
        "response = requests.get(url)\n",
        "print(response)\n",
        "\n",
        "# Parse the HTML content of the page\n",
        "soup = BeautifulSoup(response.text, 'html.parser')\n",
        "\n",
        "# print(soup.text)\n",
        "\n",
        "# Extract all the blog post titles (example: assuming titles are in <h2> tags with class 'card-title')\n",
        "titles = soup.find_all('h2', class_='card-title')\n",
        "\n",
        "# # Print the extracted titles\n",
        "# print(\"Blog Post Titles:\")\n",
        "# for i, title in enumerate(titles, 1):\n",
        "#     print(f\"{i}. {title.text.strip()}\")\n"
      ],
      "metadata": {
        "id": "nuQC8OhzM-lh",
        "colab": {
          "base_uri": "https://localhost:8080/"
        },
        "collapsed": true,
        "outputId": "3c0c6f61-d945-43c1-f6b5-ca875024bedf"
      },
      "execution_count": 107,
      "outputs": [
        {
          "output_type": "stream",
          "name": "stdout",
          "text": [
            "<Response [200]>\n"
          ]
        }
      ]
    },
    {
      "cell_type": "code",
      "source": [
        "import pandas as pd\n",
        "\n",
        "# Create a DataFrame\n",
        "data = {\"Title\": [title.text.strip() for title in titles]}\n",
        "df = pd.DataFrame(data)\n",
        "df.index = range(1, len(df) + 1)\n",
        "# Display the DataFrame\n",
        "print(df)\n"
      ],
      "metadata": {
        "id": "xp7ckYWF_-jR",
        "colab": {
          "base_uri": "https://localhost:8080/"
        },
        "outputId": "cc0255de-8fe5-49f4-9c8f-eda932c6600c"
      },
      "execution_count": 108,
      "outputs": [
        {
          "output_type": "stream",
          "name": "stdout",
          "text": [
            "                                                Title\n",
            "1                       How to Join Strings in Python\n",
            "2                     How to Split a String in Python\n",
            "3             NumPy Techniques and Practical Examples\n",
            "4                  Python for Loops: The Pythonic Way\n",
            "5   Develop Data Visualization Interfaces in Pytho...\n",
            "6                Build a Quiz Application With Python\n",
            "7                             Top Python Game Engines\n",
            "8        Build a Dice-Rolling Application With Python\n",
            "9    Natural Language Processing With spaCy in Python\n",
            "10   A Guide to Modern Python String Formatting Tools\n",
            "11  Python & APIs: A Winning Combo for Reading Pub...\n",
            "12   Build a Tic-Tac-Toe Game With Python and Tkinter\n",
            "13  Providing Multiple Constructors in Your Python...\n",
            "14  Split Your Dataset With scikit-learn's train_t...\n",
            "15  Creating a Scalable Flask Web Application From...\n",
            "16  How to Split a Python List or Iterable Into Ch...\n",
            "17  Python's Mutable vs Immutable Types: What's th...\n",
            "18                          Lists vs Tuples in Python\n",
            "19      Python Folium: Create Web Maps From Your Data\n"
          ]
        }
      ]
    },
    {
      "cell_type": "markdown",
      "source": [
        "Step 1: Import Libraries\n",
        "The first step is to import the necessary libraries: BeautifulSoup for parsing the HTML content of the webpage and requests for making HTTP requests. These libraries allow us to retrieve the webpage and extract specific elements from its structure.\n",
        "\n",
        "Step 2: Specify the Target URL\n",
        "You define the URL of the webpage you want to scrape. In this project, the target is a blog site, such as \"https://realpython.com/\". This URL serves as the entry point for fetching the content that you want to analyze.\n",
        "\n",
        "Step 3: Send an HTTP Request\n",
        "An HTTP GET request is sent to the specified URL using the requests library. The server responds with the HTML content of the webpage, which we can then process. This step ensures you have access to the page's raw content.\n",
        "\n",
        "Step 4: Parse the HTML Content\n",
        "The HTML content from the response is passed to BeautifulSoup, which parses it and converts it into a structured format that can be navigated like a tree. This enables you to efficiently locate and extract specific elements (e.g., titles, links, or text) from the webpage.\n",
        "\n",
        "Step 5: Locate Blog Post Titles\n",
        "BeautifulSoup's find_all method is used to search for specific tags (e.g., <h2>) and their associated class attributes (e.g., class='card-title'). This method retrieves all the matching elements, which in this case are the blog post titles. The find_all function returns a list containing these elements.\n",
        "\n",
        "Step 6: Loop Through Titles\n",
        "The list of blog post titles is iterated using a loop. For each title, the text content is extracted using the .text attribute of the tag, and unnecessary whitespace is removed using the .strip() method. The loop prints each title alongside its position in the list.\n",
        "\n",
        "Step 7: Display the Extracted Titles\n",
        "Finally, the extracted blog titles are displayed as a numbered list. Each title is printed in a clean format, making it easy to see the output of the project. This step concludes the task, giving you a clear view of the blog posts retrieved from the webpage.\n",
        "\n",
        "This step-by-step process demonstrates the basic workflow of web scraping: accessing a webpage, parsing its structure, and extracting specific data in a meaningful way."
      ],
      "metadata": {
        "id": "UJTx2KEtN6Sj"
      }
    }
  ]
}